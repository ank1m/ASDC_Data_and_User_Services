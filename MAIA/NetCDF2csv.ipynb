{
 "cells": [
  {
   "cell_type": "markdown",
   "metadata": {
    "colab_type": "text",
    "id": "view-in-github"
   },
   "source": [
    "<a href=\"https://colab.research.google.com/github/nasa/ASDC_Data_and_User_Services/blob/main/MAIA/NetCDF2csv.ipynb\" target=\"_parent\"><img src=\"https://colab.research.google.com/assets/colab-badge.svg\" alt=\"Open In Colab\"/></a>"
   ]
  },
  {
   "cell_type": "markdown",
   "metadata": {
    "id": "CSD0Ecndf2Yb"
   },
   "source": [
    "![images.jpg](data:image/jpeg;base64,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)\\\n"
   ]
  },
  {
   "cell_type": "markdown",
   "metadata": {
    "id": "8aLGk50xflBy"
   },
   "source": [
    "## NetCDF to CSV Transformation\n",
    "---\n",
    "\n",
    "\n",
    "\n",
    "\n",
    "\n",
    "\n"
   ]
  },
  {
   "cell_type": "markdown",
   "metadata": {
    "id": "eS-zez91bb_O"
   },
   "source": [
    "# Overview\n",
    "\n",
    "This notebook demonstrates an approach to converting a Network Common Data Form (netCDF4) file from the MAIA mission into a Comma Separated Value (CSV) file.\n",
    "\n",
    "# Outline\n",
    "\n",
    "- The NetCDF file is opened using nc.Dataset in read mode, and the resulting dataset object is stored in the dataset variable.\n",
    "- A dictionary called data_dict is created to store the variable data. The read_variables function is called with the dataset object as the input to populate the dictionary with variable data.\n",
    "- The maximum length among the variable data arrays is determined using a generator expression and the max function.\n",
    "- Variables with shorter lengths are padded to match the maximum length using np.resize. The updated variable data arrays are stored back in the data_dict dictionary.\n",
    "- A pandas DataFrame called data is created using the data_dict dictionary, where each variable becomes a column in the DataFrame.\n",
    "- The DataFrame is saved to a CSV file using the to_csv method of the DataFrame. The index=False argument is used to exclude the row index from being written to the CSV file."
   ]
  },
  {
   "cell_type": "markdown",
   "metadata": {},
   "source": [
    "# Setup\n",
    "\n",
    "Libraries are installed and then imported: \n",
    "- `netCDF4` for reading NetCDF files, \n",
    "- `pandas` for data manipulation\n",
    "- `numpy` for array operations."
   ]
  },
  {
   "cell_type": "code",
   "execution_count": null,
   "metadata": {
    "colab": {
     "base_uri": "https://localhost:8080/"
    },
    "id": "FaPMmEIUixjK",
    "outputId": "1091f6e5-33db-42cd-eb6d-ee4682ddd32a"
   },
   "outputs": [
    {
     "name": "stdout",
     "output_type": "stream",
     "text": [
      "Collecting netCDF4\n",
      "  Downloading netCDF4-1.6.4-cp310-cp310-manylinux_2_17_x86_64.manylinux2014_x86_64.whl (5.4 MB)\n",
      "\u001b[?25l     \u001b[90m━━━━━━━━━━━━━━━━━━━━━━━━━━━━━━━━━━━━━━━━\u001b[0m \u001b[32m0.0/5.4 MB\u001b[0m \u001b[31m?\u001b[0m eta \u001b[36m-:--:--\u001b[0m\r\u001b[2K     \u001b[91m━━━━━━━━━━\u001b[0m\u001b[91m╸\u001b[0m\u001b[90m━━━━━━━━━━━━━━━━━━━━━━━━━━━━━\u001b[0m \u001b[32m1.5/5.4 MB\u001b[0m \u001b[31m43.7 MB/s\u001b[0m eta \u001b[36m0:00:01\u001b[0m\r\u001b[2K     \u001b[91m━━━━━━━━━━━━━━━━━━━━━━━━━━━━━━━━━━━━━━━\u001b[0m\u001b[91m╸\u001b[0m \u001b[32m5.4/5.4 MB\u001b[0m \u001b[31m93.0 MB/s\u001b[0m eta \u001b[36m0:00:01\u001b[0m\r\u001b[2K     \u001b[90m━━━━━━━━━━━━━━━━━━━━━━━━━━━━━━━━━━━━━━━━\u001b[0m \u001b[32m5.4/5.4 MB\u001b[0m \u001b[31m57.9 MB/s\u001b[0m eta \u001b[36m0:00:00\u001b[0m\n",
      "\u001b[?25hRequirement already satisfied: pandas in /usr/local/lib/python3.10/dist-packages (1.5.3)\n",
      "Collecting cftime (from netCDF4)\n",
      "  Downloading cftime-1.6.2-cp310-cp310-manylinux_2_17_x86_64.manylinux2014_x86_64.whl (1.2 MB)\n",
      "\u001b[2K     \u001b[90m━━━━━━━━━━━━━━━━━━━━━━━━━━━━━━━━━━━━━━━━\u001b[0m \u001b[32m1.2/1.2 MB\u001b[0m \u001b[31m54.4 MB/s\u001b[0m eta \u001b[36m0:00:00\u001b[0m\n",
      "\u001b[?25hRequirement already satisfied: certifi in /usr/local/lib/python3.10/dist-packages (from netCDF4) (2023.5.7)\n",
      "Requirement already satisfied: numpy in /usr/local/lib/python3.10/dist-packages (from netCDF4) (1.22.4)\n",
      "Requirement already satisfied: python-dateutil>=2.8.1 in /usr/local/lib/python3.10/dist-packages (from pandas) (2.8.2)\n",
      "Requirement already satisfied: pytz>=2020.1 in /usr/local/lib/python3.10/dist-packages (from pandas) (2022.7.1)\n",
      "Requirement already satisfied: six>=1.5 in /usr/local/lib/python3.10/dist-packages (from python-dateutil>=2.8.1->pandas) (1.16.0)\n",
      "Installing collected packages: cftime, netCDF4\n",
      "Successfully installed cftime-1.6.2 netCDF4-1.6.4\n"
     ]
    }
   ],
   "source": [
    "!pip install netCDF4 pandas"
   ]
  },
  {
   "cell_type": "code",
   "execution_count": null,
   "metadata": {},
   "outputs": [],
   "source": [
    "import netCDF4 as nc\n",
    "import pandas as pd\n",
    "import numpy as np"
   ]
  },
  {
   "cell_type": "markdown",
   "metadata": {
    "id": "_jiQklCHoxXN"
   },
   "source": [
    "# NetCDF conversion to CSV"
   ]
  },
  {
   "cell_type": "code",
   "execution_count": null,
   "metadata": {
    "colab": {
     "base_uri": "https://localhost:8080/"
    },
    "id": "hUxFl9UVmSP0",
    "outputId": "47a17dea-bc01-4acd-8da7-b1d9ca33a880"
   },
   "outputs": [
    {
     "name": "stdout",
     "output_type": "stream",
     "text": [
      "Conversion complete.\n"
     ]
    }
   ],
   "source": [
    "def netcdf_to_csv(input_file, output_file):\n",
    "    \"\"\"Main function that performs the conversion from NetCDF to CSV. \n",
    "    \n",
    "    Parameters:\n",
    "        input_file (the path to the NetCDF file) \n",
    "        output_file (the desired path for the output CSV file).\n",
    "    \"\"\"\n",
    "    dataset = nc.Dataset(input_file)  # Open the NetCDF file\n",
    "\n",
    "    # Get the variable names from the dataset\n",
    "    variables = dataset.variables.keys()\n",
    "\n",
    "    # Create a dictionary to store the variable data\n",
    "    data_dict = {}\n",
    "    max_length = 0  # Track the maximum length among all variables\n",
    "\n",
    "    for var in variables:\n",
    "        var_data = dataset.variables[var][:]\n",
    "\n",
    "        # Flatten the variable data if it has more than one dimension\n",
    "        if len(var_data.shape) > 1:\n",
    "            var_data = var_data.flatten()\n",
    "\n",
    "        # Update the maximum length if needed\n",
    "        max_length = max(max_length, var_data.size)\n",
    "\n",
    "        data_dict[var] = var_data\n",
    "\n",
    "    # Pad variables with shorter lengths to match the maximum length\n",
    "    for var in data_dict:\n",
    "        var_data = data_dict[var]\n",
    "        if var_data.size < max_length:\n",
    "            var_data = np.resize(var_data, max_length)\n",
    "            data_dict[var] = var_data\n",
    "\n",
    "    # Create a pandas DataFrame using the data dictionary\n",
    "    data = pd.DataFrame(data_dict)\n",
    "\n",
    "    # Save the DataFrame to a CSV file\n",
    "    data.to_csv(output_file, index=False)\n",
    "\n",
    "    print(\"Conversion complete.\")\n",
    "\n",
    "# Usage example\n",
    "input_file = \"/content/MAIA_L4_GFPM_20180101T000000Z_FB_NOM_R01_USA-Boston_F01_VSIM01p01p01p01.nc\"\n",
    "output_file = \"/content/output.csv\"\n",
    "\n",
    "netcdf_to_csv(input_file, output_file)\n"
   ]
  },
  {
   "cell_type": "markdown",
   "metadata": {
    "id": "q8DY3P4Ao2fl"
   },
   "source": [
    "#NetCDF conversion to CSV with flat groups"
   ]
  },
  {
   "cell_type": "code",
   "execution_count": null,
   "metadata": {
    "colab": {
     "base_uri": "https://localhost:8080/"
    },
    "id": "kvphrFSrnlXN",
    "outputId": "f293f201-eacd-457b-a9bb-8d743b624943"
   },
   "outputs": [
    {
     "name": "stdout",
     "output_type": "stream",
     "text": [
      "Conversion complete.\n"
     ]
    }
   ],
   "source": [
    "def read_variables(group):\n",
    "    \"\"\"\n",
    "    Recursive function to read variables from a NetCDF group and its subgroups.\n",
    "\n",
    "    Parameters:\n",
    "        group\n",
    "    \n",
    "    Returns:\n",
    "        a dictionary containing variable names as keys and their corresponding data arrays as values.\n",
    "    \"\"\"\n",
    "    data_dict = {}\n",
    "\n",
    "    # Iterate over variables in the current group\n",
    "    for var in group.variables:\n",
    "        var_data = group.variables[var][:]\n",
    "\n",
    "        # Flatten the variable data if it has more than one dimension\n",
    "        if len(var_data.shape) > 1:\n",
    "            var_data = var_data.flatten()\n",
    "\n",
    "        data_dict[var] = var_data\n",
    "\n",
    "    # Iterate over subgroups in the current group\n",
    "    for subgroup in group.groups.values():\n",
    "        subgroup_data = read_variables(subgroup)\n",
    "        data_dict.update(subgroup_data)\n",
    "\n",
    "    return data_dict\n",
    "\n",
    "\n",
    "def netcdf_to_csv(input_file, output_file):\n",
    "    dataset = nc.Dataset(input_file, \"r\")  # Open the NetCDF file in read mode\n",
    "\n",
    "    # Create a dictionary to store the variable data\n",
    "    data_dict = read_variables(dataset)\n",
    "\n",
    "    # Find the maximum length among the variable data\n",
    "    max_length = max(var_data.size for var_data in data_dict.values())\n",
    "\n",
    "    # Pad variables with shorter lengths to match the maximum length\n",
    "    for var in data_dict:\n",
    "        var_data = data_dict[var]\n",
    "        if var_data.size < max_length:\n",
    "            var_data = np.resize(var_data, max_length)\n",
    "            data_dict[var] = var_data\n",
    "\n",
    "    # Create a pandas DataFrame using the data dictionary\n",
    "    data = pd.DataFrame(data_dict)\n",
    "\n",
    "    # Save the DataFrame to a CSV file\n",
    "    data.to_csv(output_file, index=False)\n",
    "\n",
    "    print(\"Conversion complete.\")\n",
    "\n",
    "# Usage example\n",
    "input_file = \"/content/MAIA_L4_GFPM_20180101T000000Z_FB_NOM_R01_USA-Boston_F01_VSIM01p01p01p01.nc\"\n",
    "output_file = \"/content/output.csv\"\n",
    "\n",
    "netcdf_to_csv(input_file, output_file)\n"
   ]
  },
  {
   "cell_type": "code",
   "execution_count": null,
   "metadata": {
    "id": "PIgevRr8bLQW"
   },
   "outputs": [],
   "source": [
    "def read_variables(group):\n",
    "    \"\"\"\n",
    "    Recursive function to read variables from a NetCDF group and its subgroups.\n",
    "    \"\"\"\n",
    "    data_dict = {}\n",
    "\n",
    "    # Iterate over variables in the current group\n",
    "    for var in group.variables:\n",
    "        var_data = group.variables[var][:]\n",
    "\n",
    "        # Flatten the variable data if it has more than one dimension\n",
    "        if len(var_data.shape) > 1:\n",
    "            var_data = var_data.flatten()\n",
    "\n",
    "        data_dict[var] = var_data\n",
    "\n",
    "    # Iterate over subgroups in the current group\n",
    "    for subgroup in group.groups.values():\n",
    "        subgroup_data = read_variables(subgroup)\n",
    "        data_dict.update(subgroup_data)\n",
    "\n",
    "    return data_dict\n",
    "\n",
    "\n",
    "def netcdf_to_csv(input_file, output_file):\n",
    "    dataset = nc.Dataset(input_file, \"r\")  # Open the NetCDF file in read mode\n",
    "\n",
    "    # Create a dictionary to store the variable data\n",
    "    data_dict = read_variables(dataset)\n",
    "\n",
    "    # Find the maximum length among the variable data\n",
    "    max_length = max(var_data.size for var_data in data_dict.values())\n",
    "\n",
    "    # Pad variables with shorter lengths to match the maximum length\n",
    "    for var in data_dict:\n",
    "        var_data = data_dict[var]\n",
    "        if var_data.size < max_length:\n",
    "            var_data = np.resize(var_data, max_length)\n",
    "            data_dict[var] = var_data\n",
    "\n",
    "    # Create a pandas DataFrame using the data dictionary\n",
    "    data = pd.DataFrame(data_dict)\n",
    "\n",
    "    # Save the DataFrame to a CSV file\n",
    "    data.to_csv(output_file, index=False)\n",
    "\n",
    "    print(\"Conversion complete.\")\n",
    "\n",
    "# Usage example\n",
    "input_file = \"/content/MAIA_L4_GFPM_20180101T000000Z_FB_NOM_R01_USA-Boston_F01_VSIM01p01p01p01.nc\"\n",
    "output_file = \"/content/output.csv\"\n",
    "\n",
    "netcdf_to_csv(input_file, output_file)"
   ]
  },
  {
   "cell_type": "markdown",
   "metadata": {
    "id": "1vZRS4_cbQGw"
   },
   "source": [
    "![output screenshot](https://github.com/nasa/ASDC_Data_and_User_Services/blob/main/images/netcdf-to-csv-excel-screenshot.png)\\"
   ]
  },
  {
   "cell_type": "markdown",
   "metadata": {},
   "source": []
  }
 ],
 "metadata": {
  "colab": {
   "authorship_tag": "ABX9TyMu8etEAq90n5IymWSQVnPu",
   "include_colab_link": true,
   "provenance": []
  },
  "kernelspec": {
   "display_name": "Python 3",
   "name": "python3"
  },
  "language_info": {
   "name": "python"
  }
 },
 "nbformat": 4,
 "nbformat_minor": 0
}
